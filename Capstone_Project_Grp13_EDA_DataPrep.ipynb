{
  "nbformat": 4,
  "nbformat_minor": 0,
  "metadata": {
    "colab": {
      "name": "Capstone_Project_Grp13_EDA_DataPrep.ipynb",
      "provenance": [],
      "collapsed_sections": []
    },
    "kernelspec": {
      "name": "python3",
      "display_name": "Python 3"
    },
    "language_info": {
      "name": "python"
    }
  },
  "cells": [
    {
      "cell_type": "code",
      "execution_count": 34,
      "metadata": {
        "colab": {
          "base_uri": "https://localhost:8080/"
        },
        "id": "xpQvgDSC4BTd",
        "outputId": "91536e99-790f-4364-df17-853fe67bb94f"
      },
      "outputs": [
        {
          "output_type": "stream",
          "name": "stdout",
          "text": [
            "Drive already mounted at /content/drive/; to attempt to forcibly remount, call drive.mount(\"/content/drive/\", force_remount=True).\n"
          ]
        }
      ],
      "source": [
        "#Mount Google Drive\n",
        "\n",
        "from google.colab import drive\n",
        "drive.mount('/content/drive/')"
      ]
    },
    {
      "cell_type": "code",
      "source": [
        "#Importing required libraries for the NLP 2 Capstone Project\n",
        "\n",
        "import string\n",
        "import numpy as np\n",
        "import pandas as pd\n",
        "import matplotlib.pyplot as plt\n",
        "%matplotlib inline\n",
        "import seaborn as sns\n",
        "from sklearn.preprocessing import LabelEncoder, OneHotEncoder\n",
        "from scipy.stats import chi2_contingency\n",
        "import datetime\n",
        "from scipy.stats import chi2\n",
        "import nltk # Import NLTK\n",
        "nltk.download('stopwords') # Downloading stopwords\n",
        "nltk.download('punkt') # Downloading tokenizer\n",
        "from nltk.corpus import stopwords # Import stop words\n",
        "from string import punctuation\n",
        "import re\n",
        "from PIL import Image\n",
        "from wordcloud import WordCloud, STOPWORDS, ImageColorGenerator\n",
        "\n",
        "data_path = r'/content/drive/My Drive/Colab Notebooks/GL Capstone Project/'\n",
        "file_name = 'IHMStefanini_industrial_safety_and_health_database_with_accidents_description.csv'\n",
        "output_file_name = 'capproj1.csv'"
      ],
      "metadata": {
        "id": "RUtxsoPLApY1",
        "colab": {
          "base_uri": "https://localhost:8080/"
        },
        "outputId": "50f3bf1e-f79e-46b9-a46c-b34cfad2b1f5"
      },
      "execution_count": 35,
      "outputs": [
        {
          "output_type": "stream",
          "name": "stdout",
          "text": [
            "[nltk_data] Downloading package stopwords to /root/nltk_data...\n",
            "[nltk_data]   Package stopwords is already up-to-date!\n",
            "[nltk_data] Downloading package punkt to /root/nltk_data...\n",
            "[nltk_data]   Package punkt is already up-to-date!\n"
          ]
        }
      ]
    },
    {
      "cell_type": "code",
      "source": [
        "#Import data\n",
        "\n",
        "accident_df_raw = pd.read_csv(data_path + file_name)\n",
        "accident_df_raw.head()"
      ],
      "metadata": {
        "colab": {
          "base_uri": "https://localhost:8080/",
          "height": 206
        },
        "id": "ouX6q4RTBP4m",
        "outputId": "ed53c041-4dec-4c4a-e428-c6c275a6ef9d"
      },
      "execution_count": 36,
      "outputs": [
        {
          "output_type": "execute_result",
          "data": {
            "text/plain": [
              "   Unnamed: 0                 Data   Countries     Local Industry Sector  \\\n",
              "0           0  2016-01-01 00:00:00  Country_01  Local_01          Mining   \n",
              "1           1  2016-01-02 00:00:00  Country_02  Local_02          Mining   \n",
              "2           2  2016-01-06 00:00:00  Country_01  Local_03          Mining   \n",
              "3           3  2016-01-08 00:00:00  Country_01  Local_04          Mining   \n",
              "4           4  2016-01-10 00:00:00  Country_01  Local_04          Mining   \n",
              "\n",
              "  Accident Level Potential Accident Level Genre Employee or Third Party  \\\n",
              "0              I                       IV  Male             Third Party   \n",
              "1              I                       IV  Male                Employee   \n",
              "2              I                      III  Male    Third Party (Remote)   \n",
              "3              I                        I  Male             Third Party   \n",
              "4             IV                       IV  Male             Third Party   \n",
              "\n",
              "         Critical Risk                                        Description  \n",
              "0              Pressed  While removing the drill rod of the Jumbo 08 f...  \n",
              "1  Pressurized Systems  During the activation of a sodium sulphide pum...  \n",
              "2         Manual Tools  In the sub-station MILPO located at level +170...  \n",
              "3               Others  Being 9:45 am. approximately in the Nv. 1880 C...  \n",
              "4               Others  Approximately at 11:45 a.m. in circumstances t...  "
            ],
            "text/html": [
              "\n",
              "  <div id=\"df-a56bb56a-87bc-4eec-a896-feb04c4cc279\">\n",
              "    <div class=\"colab-df-container\">\n",
              "      <div>\n",
              "<style scoped>\n",
              "    .dataframe tbody tr th:only-of-type {\n",
              "        vertical-align: middle;\n",
              "    }\n",
              "\n",
              "    .dataframe tbody tr th {\n",
              "        vertical-align: top;\n",
              "    }\n",
              "\n",
              "    .dataframe thead th {\n",
              "        text-align: right;\n",
              "    }\n",
              "</style>\n",
              "<table border=\"1\" class=\"dataframe\">\n",
              "  <thead>\n",
              "    <tr style=\"text-align: right;\">\n",
              "      <th></th>\n",
              "      <th>Unnamed: 0</th>\n",
              "      <th>Data</th>\n",
              "      <th>Countries</th>\n",
              "      <th>Local</th>\n",
              "      <th>Industry Sector</th>\n",
              "      <th>Accident Level</th>\n",
              "      <th>Potential Accident Level</th>\n",
              "      <th>Genre</th>\n",
              "      <th>Employee or Third Party</th>\n",
              "      <th>Critical Risk</th>\n",
              "      <th>Description</th>\n",
              "    </tr>\n",
              "  </thead>\n",
              "  <tbody>\n",
              "    <tr>\n",
              "      <th>0</th>\n",
              "      <td>0</td>\n",
              "      <td>2016-01-01 00:00:00</td>\n",
              "      <td>Country_01</td>\n",
              "      <td>Local_01</td>\n",
              "      <td>Mining</td>\n",
              "      <td>I</td>\n",
              "      <td>IV</td>\n",
              "      <td>Male</td>\n",
              "      <td>Third Party</td>\n",
              "      <td>Pressed</td>\n",
              "      <td>While removing the drill rod of the Jumbo 08 f...</td>\n",
              "    </tr>\n",
              "    <tr>\n",
              "      <th>1</th>\n",
              "      <td>1</td>\n",
              "      <td>2016-01-02 00:00:00</td>\n",
              "      <td>Country_02</td>\n",
              "      <td>Local_02</td>\n",
              "      <td>Mining</td>\n",
              "      <td>I</td>\n",
              "      <td>IV</td>\n",
              "      <td>Male</td>\n",
              "      <td>Employee</td>\n",
              "      <td>Pressurized Systems</td>\n",
              "      <td>During the activation of a sodium sulphide pum...</td>\n",
              "    </tr>\n",
              "    <tr>\n",
              "      <th>2</th>\n",
              "      <td>2</td>\n",
              "      <td>2016-01-06 00:00:00</td>\n",
              "      <td>Country_01</td>\n",
              "      <td>Local_03</td>\n",
              "      <td>Mining</td>\n",
              "      <td>I</td>\n",
              "      <td>III</td>\n",
              "      <td>Male</td>\n",
              "      <td>Third Party (Remote)</td>\n",
              "      <td>Manual Tools</td>\n",
              "      <td>In the sub-station MILPO located at level +170...</td>\n",
              "    </tr>\n",
              "    <tr>\n",
              "      <th>3</th>\n",
              "      <td>3</td>\n",
              "      <td>2016-01-08 00:00:00</td>\n",
              "      <td>Country_01</td>\n",
              "      <td>Local_04</td>\n",
              "      <td>Mining</td>\n",
              "      <td>I</td>\n",
              "      <td>I</td>\n",
              "      <td>Male</td>\n",
              "      <td>Third Party</td>\n",
              "      <td>Others</td>\n",
              "      <td>Being 9:45 am. approximately in the Nv. 1880 C...</td>\n",
              "    </tr>\n",
              "    <tr>\n",
              "      <th>4</th>\n",
              "      <td>4</td>\n",
              "      <td>2016-01-10 00:00:00</td>\n",
              "      <td>Country_01</td>\n",
              "      <td>Local_04</td>\n",
              "      <td>Mining</td>\n",
              "      <td>IV</td>\n",
              "      <td>IV</td>\n",
              "      <td>Male</td>\n",
              "      <td>Third Party</td>\n",
              "      <td>Others</td>\n",
              "      <td>Approximately at 11:45 a.m. in circumstances t...</td>\n",
              "    </tr>\n",
              "  </tbody>\n",
              "</table>\n",
              "</div>\n",
              "      <button class=\"colab-df-convert\" onclick=\"convertToInteractive('df-a56bb56a-87bc-4eec-a896-feb04c4cc279')\"\n",
              "              title=\"Convert this dataframe to an interactive table.\"\n",
              "              style=\"display:none;\">\n",
              "        \n",
              "  <svg xmlns=\"http://www.w3.org/2000/svg\" height=\"24px\"viewBox=\"0 0 24 24\"\n",
              "       width=\"24px\">\n",
              "    <path d=\"M0 0h24v24H0V0z\" fill=\"none\"/>\n",
              "    <path d=\"M18.56 5.44l.94 2.06.94-2.06 2.06-.94-2.06-.94-.94-2.06-.94 2.06-2.06.94zm-11 1L8.5 8.5l.94-2.06 2.06-.94-2.06-.94L8.5 2.5l-.94 2.06-2.06.94zm10 10l.94 2.06.94-2.06 2.06-.94-2.06-.94-.94-2.06-.94 2.06-2.06.94z\"/><path d=\"M17.41 7.96l-1.37-1.37c-.4-.4-.92-.59-1.43-.59-.52 0-1.04.2-1.43.59L10.3 9.45l-7.72 7.72c-.78.78-.78 2.05 0 2.83L4 21.41c.39.39.9.59 1.41.59.51 0 1.02-.2 1.41-.59l7.78-7.78 2.81-2.81c.8-.78.8-2.07 0-2.86zM5.41 20L4 18.59l7.72-7.72 1.47 1.35L5.41 20z\"/>\n",
              "  </svg>\n",
              "      </button>\n",
              "      \n",
              "  <style>\n",
              "    .colab-df-container {\n",
              "      display:flex;\n",
              "      flex-wrap:wrap;\n",
              "      gap: 12px;\n",
              "    }\n",
              "\n",
              "    .colab-df-convert {\n",
              "      background-color: #E8F0FE;\n",
              "      border: none;\n",
              "      border-radius: 50%;\n",
              "      cursor: pointer;\n",
              "      display: none;\n",
              "      fill: #1967D2;\n",
              "      height: 32px;\n",
              "      padding: 0 0 0 0;\n",
              "      width: 32px;\n",
              "    }\n",
              "\n",
              "    .colab-df-convert:hover {\n",
              "      background-color: #E2EBFA;\n",
              "      box-shadow: 0px 1px 2px rgba(60, 64, 67, 0.3), 0px 1px 3px 1px rgba(60, 64, 67, 0.15);\n",
              "      fill: #174EA6;\n",
              "    }\n",
              "\n",
              "    [theme=dark] .colab-df-convert {\n",
              "      background-color: #3B4455;\n",
              "      fill: #D2E3FC;\n",
              "    }\n",
              "\n",
              "    [theme=dark] .colab-df-convert:hover {\n",
              "      background-color: #434B5C;\n",
              "      box-shadow: 0px 1px 3px 1px rgba(0, 0, 0, 0.15);\n",
              "      filter: drop-shadow(0px 1px 2px rgba(0, 0, 0, 0.3));\n",
              "      fill: #FFFFFF;\n",
              "    }\n",
              "  </style>\n",
              "\n",
              "      <script>\n",
              "        const buttonEl =\n",
              "          document.querySelector('#df-a56bb56a-87bc-4eec-a896-feb04c4cc279 button.colab-df-convert');\n",
              "        buttonEl.style.display =\n",
              "          google.colab.kernel.accessAllowed ? 'block' : 'none';\n",
              "\n",
              "        async function convertToInteractive(key) {\n",
              "          const element = document.querySelector('#df-a56bb56a-87bc-4eec-a896-feb04c4cc279');\n",
              "          const dataTable =\n",
              "            await google.colab.kernel.invokeFunction('convertToInteractive',\n",
              "                                                     [key], {});\n",
              "          if (!dataTable) return;\n",
              "\n",
              "          const docLinkHtml = 'Like what you see? Visit the ' +\n",
              "            '<a target=\"_blank\" href=https://colab.research.google.com/notebooks/data_table.ipynb>data table notebook</a>'\n",
              "            + ' to learn more about interactive tables.';\n",
              "          element.innerHTML = '';\n",
              "          dataTable['output_type'] = 'display_data';\n",
              "          await google.colab.output.renderOutput(dataTable, element);\n",
              "          const docLink = document.createElement('div');\n",
              "          docLink.innerHTML = docLinkHtml;\n",
              "          element.appendChild(docLink);\n",
              "        }\n",
              "      </script>\n",
              "    </div>\n",
              "  </div>\n",
              "  "
            ]
          },
          "metadata": {},
          "execution_count": 36
        }
      ]
    },
    {
      "cell_type": "code",
      "source": [
        "#Data analysis and EDA as below\n",
        "\n",
        "accident_df_raw.info()"
      ],
      "metadata": {
        "colab": {
          "base_uri": "https://localhost:8080/"
        },
        "id": "srPdIOOJBcAU",
        "outputId": "1f824679-5b8c-43d1-e516-49810f4fd4ca"
      },
      "execution_count": 37,
      "outputs": [
        {
          "output_type": "stream",
          "name": "stdout",
          "text": [
            "<class 'pandas.core.frame.DataFrame'>\n",
            "RangeIndex: 425 entries, 0 to 424\n",
            "Data columns (total 11 columns):\n",
            " #   Column                    Non-Null Count  Dtype \n",
            "---  ------                    --------------  ----- \n",
            " 0   Unnamed: 0                425 non-null    int64 \n",
            " 1   Data                      425 non-null    object\n",
            " 2   Countries                 425 non-null    object\n",
            " 3   Local                     425 non-null    object\n",
            " 4   Industry Sector           425 non-null    object\n",
            " 5   Accident Level            425 non-null    object\n",
            " 6   Potential Accident Level  425 non-null    object\n",
            " 7   Genre                     425 non-null    object\n",
            " 8   Employee or Third Party   425 non-null    object\n",
            " 9   Critical Risk             425 non-null    object\n",
            " 10  Description               425 non-null    object\n",
            "dtypes: int64(1), object(10)\n",
            "memory usage: 36.6+ KB\n"
          ]
        }
      ]
    },
    {
      "cell_type": "code",
      "source": [
        "accident_df_raw = accident_df_raw.drop(columns='Unnamed: 0', axis=1)"
      ],
      "metadata": {
        "id": "93FZHgS6Bf0M"
      },
      "execution_count": 38,
      "outputs": []
    },
    {
      "cell_type": "code",
      "source": [
        "accident_df_raw['Date'] = pd.to_datetime(accident_df_raw['Data'])\n",
        "accident_df_raw = accident_df_raw.drop(columns='Data', axis=1)\n",
        "accident_df_raw.info()"
      ],
      "metadata": {
        "colab": {
          "base_uri": "https://localhost:8080/"
        },
        "id": "HpvVTnC1Birl",
        "outputId": "73364a30-3ae4-4f2a-91cf-c99a62c89736"
      },
      "execution_count": 39,
      "outputs": [
        {
          "output_type": "stream",
          "name": "stdout",
          "text": [
            "<class 'pandas.core.frame.DataFrame'>\n",
            "RangeIndex: 425 entries, 0 to 424\n",
            "Data columns (total 10 columns):\n",
            " #   Column                    Non-Null Count  Dtype         \n",
            "---  ------                    --------------  -----         \n",
            " 0   Countries                 425 non-null    object        \n",
            " 1   Local                     425 non-null    object        \n",
            " 2   Industry Sector           425 non-null    object        \n",
            " 3   Accident Level            425 non-null    object        \n",
            " 4   Potential Accident Level  425 non-null    object        \n",
            " 5   Genre                     425 non-null    object        \n",
            " 6   Employee or Third Party   425 non-null    object        \n",
            " 7   Critical Risk             425 non-null    object        \n",
            " 8   Description               425 non-null    object        \n",
            " 9   Date                      425 non-null    datetime64[ns]\n",
            "dtypes: datetime64[ns](1), object(9)\n",
            "memory usage: 33.3+ KB\n"
          ]
        }
      ]
    },
    {
      "cell_type": "code",
      "source": [
        "accident_df_raw['Month'] =  accident_df_raw['Date'].apply(lambda d: d.month)\n",
        "accident_df_raw['Year'] =  accident_df_raw['Date'].apply(lambda d: d.year)\n",
        "accident_df_raw_data = accident_df_raw.copy()\n",
        "print(\"Dataset has 425 rows and 12 columns ->\", accident_df_raw.shape)\n",
        "\n",
        "print(\"Null entry count of dataset as below\")\n",
        "accident_df_raw.isnull().sum()"
      ],
      "metadata": {
        "colab": {
          "base_uri": "https://localhost:8080/"
        },
        "id": "nis8fvd4B0h8",
        "outputId": "25dd844b-b880-4433-d11f-0ef4b394145e"
      },
      "execution_count": 40,
      "outputs": [
        {
          "output_type": "stream",
          "name": "stdout",
          "text": [
            "Dataset has 425 rows and 12 columns -> (425, 12)\n",
            "Null entry count of dataset as below\n"
          ]
        },
        {
          "output_type": "execute_result",
          "data": {
            "text/plain": [
              "Countries                   0\n",
              "Local                       0\n",
              "Industry Sector             0\n",
              "Accident Level              0\n",
              "Potential Accident Level    0\n",
              "Genre                       0\n",
              "Employee or Third Party     0\n",
              "Critical Risk               0\n",
              "Description                 0\n",
              "Date                        0\n",
              "Month                       0\n",
              "Year                        0\n",
              "dtype: int64"
            ]
          },
          "metadata": {},
          "execution_count": 40
        }
      ]
    },
    {
      "cell_type": "code",
      "source": [
        "#Makes count plot and prints value counts\n",
        "\n",
        "def make_count_plot(data, x, hue=\" \"):\n",
        "    if(len(hue) <= 1):\n",
        "        sns.countplot(x=x,data=data)\n",
        "    else:\n",
        "        fig, axes = plt.subplots(nrows=1, ncols=2, figsize=(20, 8))\n",
        "        sns.countplot(x=x,data=data, ax=axes[0])\n",
        "        sns.countplot(x=x,data=data,hue=hue, ax=axes[1])\n",
        "    plt.show()\n",
        "    \n",
        "    print(data[x].value_counts())"
      ],
      "metadata": {
        "id": "PPER8K8LCxdc"
      },
      "execution_count": 41,
      "outputs": []
    },
    {
      "cell_type": "code",
      "source": [
        "#Count plot of Accident level by country\n",
        "\n",
        "plt.figure(figsize=(15, 10))\n",
        "make_count_plot(accident_df_raw, 'Countries', hue='Accident Level')\n",
        "\n",
        "#From below Country_01 has the highest level of accidents and level 1 accidents too"
      ],
      "metadata": {
        "colab": {
          "base_uri": "https://localhost:8080/",
          "height": 585
        },
        "id": "_MOZx-edC0HF",
        "outputId": "5d17d711-0598-4c07-ba34-5e92314f6e84"
      },
      "execution_count": 42,
      "outputs": [
        {
          "output_type": "display_data",
          "data": {
            "text/plain": [
              "<Figure size 1080x720 with 0 Axes>"
            ]
          },
          "metadata": {}
        },
        {
          "output_type": "display_data",
          "data": {
            "text/plain": [
              "<Figure size 1440x576 with 2 Axes>"
            ],
            "image/png": "[encoded data removed]"
          },
          "metadata": {
            "needs_background": "light"
          }
        },
        {
          "output_type": "stream",
          "name": "stdout",
          "text": [
            "Country_01    251\n",
            "Country_02    130\n",
            "Country_03     44\n",
            "Name: Countries, dtype: int64\n"
          ]
        }
      ]
    },
    {
      "cell_type": "code",
      "source": [
        "#Count plot of Accident level by location\n",
        "\n",
        "plt.figure(figsize=(15, 10))\n",
        "make_count_plot(accident_df_raw, 'Local', hue='Accident Level')\n",
        "\n",
        "#From below Local_03 has the highest level of accidents and level 1 accidents too"
      ],
      "metadata": {
        "colab": {
          "base_uri": "https://localhost:8080/",
          "height": 741
        },
        "id": "_OoLED02DA_m",
        "outputId": "849d9472-ebad-494f-ea82-d11188b12c62"
      },
      "execution_count": 43,
      "outputs": [
        {
          "output_type": "display_data",
          "data": {
            "text/plain": [
              "<Figure size 1080x720 with 0 Axes>"
            ]
          },
          "metadata": {}
        },
        {
          "output_type": "display_data",
          "data": {
            "text/plain": [
              "<Figure size 1440x576 with 2 Axes>"
            ],
            "image/png": "[encoded data removed]"
          },
          "metadata": {
            "needs_background": "light"
          }
        },
        {
          "output_type": "stream",
          "name": "stdout",
          "text": [
            "Local_03    90\n",
            "Local_05    59\n",
            "Local_01    57\n",
            "Local_04    56\n",
            "Local_06    46\n",
            "Local_10    44\n",
            "Local_08    27\n",
            "Local_02    24\n",
            "Local_07    14\n",
            "Local_12     4\n",
            "Local_09     2\n",
            "Local_11     2\n",
            "Name: Local, dtype: int64\n"
          ]
        }
      ]
    },
    {
      "cell_type": "code",
      "source": [
        "#Count plot of Accident level by Industry Sector\n",
        "\n",
        "make_count_plot(accident_df_raw, 'Industry Sector', hue='Accident Level')\n",
        "\n",
        "#From below Mining has the highest level of accidents and level 1 accidents too"
      ],
      "metadata": {
        "colab": {
          "base_uri": "https://localhost:8080/",
          "height": 566
        },
        "id": "MUcKPgncDLN0",
        "outputId": "b9378db9-0a12-47d4-b1b2-4777d67de0cf"
      },
      "execution_count": 44,
      "outputs": [
        {
          "output_type": "display_data",
          "data": {
            "text/plain": [
              "<Figure size 1440x576 with 2 Axes>"
            ],
            "image/png": "[encoded data removed]"
          },
          "metadata": {
            "needs_background": "light"
          }
        },
        {
          "output_type": "stream",
          "name": "stdout",
          "text": [
            "Mining    241\n",
            "Metals    134\n",
            "Others     50\n",
            "Name: Industry Sector, dtype: int64\n"
          ]
        }
      ]
    },
    {
      "cell_type": "code",
      "source": [
        "#Count plot of Accident Level \n",
        "\n",
        "make_count_plot(accident_df_raw, 'Accident Level')\n",
        "\n",
        "#From below level 1 accidents are most frequent"
      ],
      "metadata": {
        "colab": {
          "base_uri": "https://localhost:8080/",
          "height": 383
        },
        "id": "PB76ZG19DSs7",
        "outputId": "001cd5da-3379-4213-d1b8-c50f2b1f76c1"
      },
      "execution_count": 45,
      "outputs": [
        {
          "output_type": "display_data",
          "data": {
            "text/plain": [
              "<Figure size 432x288 with 1 Axes>"
            ],
            "image/png": "[encoded data removed]"
          },
          "metadata": {
            "needs_background": "light"
          }
        },
        {
          "output_type": "stream",
          "name": "stdout",
          "text": [
            "I      316\n",
            "II      40\n",
            "III     31\n",
            "IV      30\n",
            "V        8\n",
            "Name: Accident Level, dtype: int64\n"
          ]
        }
      ]
    },
    {
      "cell_type": "code",
      "source": [
        "#Count plot of Potential Accident Level\n",
        "\n",
        "make_count_plot(accident_df_raw, 'Potential Accident Level')\n",
        "\n",
        "#From below level 4 accidents are most Potential Accident Level"
      ],
      "metadata": {
        "colab": {
          "base_uri": "https://localhost:8080/",
          "height": 401
        },
        "id": "VHAY3d41Deo-",
        "outputId": "35bac330-65c6-4341-fc8f-7d9fd4dac898"
      },
      "execution_count": 46,
      "outputs": [
        {
          "output_type": "display_data",
          "data": {
            "text/plain": [
              "<Figure size 432x288 with 1 Axes>"
            ],
            "image/png": "[encoded data removed]"
          },
          "metadata": {
            "needs_background": "light"
          }
        },
        {
          "output_type": "stream",
          "name": "stdout",
          "text": [
            "IV     143\n",
            "III    106\n",
            "II      95\n",
            "I       49\n",
            "V       31\n",
            "VI       1\n",
            "Name: Potential Accident Level, dtype: int64\n"
          ]
        }
      ]
    },
    {
      "cell_type": "code",
      "source": [
        "#Count plot of Potential Accident Level wrt Accident Level\n",
        "\n",
        "make_count_plot(accident_df_raw, 'Potential Accident Level', hue='Accident Level')\n",
        "\n",
        "#From below level 4 accidents are most Potential Accident Level but level 1 accidents are high in occurrence"
      ],
      "metadata": {
        "colab": {
          "base_uri": "https://localhost:8080/",
          "height": 619
        },
        "id": "KvZ2hW3TDocm",
        "outputId": "e4c4f6b1-7789-463f-d126-e746707a29cb"
      },
      "execution_count": 47,
      "outputs": [
        {
          "output_type": "display_data",
          "data": {
            "text/plain": [
              "<Figure size 1440x576 with 2 Axes>"
            ],
            "image/png": "[encoded data removed]"
          },
          "metadata": {
            "needs_background": "light"
          }
        },
        {
          "output_type": "stream",
          "name": "stdout",
          "text": [
            "IV     143\n",
            "III    106\n",
            "II      95\n",
            "I       49\n",
            "V       31\n",
            "VI       1\n",
            "Name: Potential Accident Level, dtype: int64\n"
          ]
        }
      ]
    },
    {
      "cell_type": "code",
      "source": [
        "#Count plot of Genre wrt Accident Level\n",
        "\n",
        "make_count_plot(accident_df_raw, 'Genre', hue='Accident Level')\n",
        "\n",
        "#From below Male Genre has the most accidents"
      ],
      "metadata": {
        "colab": {
          "base_uri": "https://localhost:8080/",
          "height": 549
        },
        "id": "Xgpu6OQKD2nc",
        "outputId": "511c8a86-6221-456a-9e27-fdd622f33d5c"
      },
      "execution_count": 48,
      "outputs": [
        {
          "output_type": "display_data",
          "data": {
            "text/plain": [
              "<Figure size 1440x576 with 2 Axes>"
            ],
            "image/png": "[encoded data removed]"
          },
          "metadata": {
            "needs_background": "light"
          }
        },
        {
          "output_type": "stream",
          "name": "stdout",
          "text": [
            "Male      403\n",
            "Female     22\n",
            "Name: Genre, dtype: int64\n"
          ]
        }
      ]
    },
    {
      "cell_type": "code",
      "source": [
        "#Count plot of Employee or Third Party wrt Accident Level\n",
        "\n",
        "gender = { \"Male\": 0, \"Female\": 1 }\n",
        "make_count_plot(accident_df_raw, 'Employee or Third Party', hue='Accident Level')\n",
        "\n",
        "#From below Third Party and Employee both have almost same accident occurrences with high occurrence in leve1 1 accidents"
      ],
      "metadata": {
        "colab": {
          "base_uri": "https://localhost:8080/",
          "height": 566
        },
        "id": "XChRrJO-ELg8",
        "outputId": "5f097f4a-54bb-4809-886f-6b8c316c787c"
      },
      "execution_count": 49,
      "outputs": [
        {
          "output_type": "display_data",
          "data": {
            "text/plain": [
              "<Figure size 1440x576 with 2 Axes>"
            ],
            "image/png": "[encoded data removed]"
          },
          "metadata": {
            "needs_background": "light"
          }
        },
        {
          "output_type": "stream",
          "name": "stdout",
          "text": [
            "Third Party             189\n",
            "Employee                179\n",
            "Third Party (Remote)     57\n",
            "Name: Employee or Third Party, dtype: int64\n"
          ]
        }
      ]
    },
    {
      "cell_type": "code",
      "source": [
        "#Count plot of Critical Risk\n",
        "\n",
        "plt.figure(figsize=(30, 15))\n",
        "plt.xticks(rotation=30)\n",
        "make_count_plot(accident_df_raw, 'Critical Risk')\n",
        "\n",
        "#From below Others have the most Critical Risk"
      ],
      "metadata": {
        "colab": {
          "base_uri": "https://localhost:8080/",
          "height": 1000
        },
        "id": "7iTIavAkEcH0",
        "outputId": "d0fa55a6-324a-47f6-896d-872b0aae7063"
      },
      "execution_count": 50,
      "outputs": [
        {
          "output_type": "display_data",
          "data": {
            "text/plain": [
              "<Figure size 2160x1080 with 1 Axes>"
            ],
            "image/png": "[encoded data removed]"
          },
          "metadata": {
            "needs_background": "light"
          }
        },
        {
          "output_type": "stream",
          "name": "stdout",
          "text": [
            "Others                                       232\n",
            "Pressed                                       24\n",
            "Manual Tools                                  20\n",
            "Chemical substances                           17\n",
            "Venomous Animals                              16\n",
            "Cut                                           14\n",
            "Projection                                    13\n",
            "Bees                                          10\n",
            "Fall                                           9\n",
            "Vehicles and Mobile Equipment                  8\n",
            "Fall prevention (same level)                   7\n",
            "remains of choco                               7\n",
            "Pressurized Systems                            7\n",
            "Fall prevention                                6\n",
            "Suspended Loads                                6\n",
            "Blocking and isolation of energies             3\n",
            "Pressurized Systems / Chemical Substances      3\n",
            "Power lock                                     3\n",
            "Liquid Metal                                   3\n",
            "Projection of fragments                        2\n",
            "Machine Protection                             2\n",
            "Electrical Shock                               2\n",
            "Individual protection equipment                1\n",
            "Projection/Manual Tools                        1\n",
            "Burn                                           1\n",
            "Poll                                           1\n",
            "Projection/Choco                               1\n",
            "Projection/Burning                             1\n",
            "Plates                                         1\n",
            "Confined space                                 1\n",
            "Traffic                                        1\n",
            "\\nNot applicable                               1\n",
            "Electrical installation                        1\n",
            "Name: Critical Risk, dtype: int64\n"
          ]
        }
      ]
    },
    {
      "cell_type": "code",
      "source": [
        "#Count plot of Accident Level by Month\n",
        "\n",
        "plt.figure(figsize=(15, 10))\n",
        "make_count_plot(accident_df_raw, 'Month', hue='Accident Level')\n",
        "\n",
        "#From below Accidents mostly occur during the first 6 months of the year"
      ],
      "metadata": {
        "colab": {
          "base_uri": "https://localhost:8080/",
          "height": 740
        },
        "id": "2LZJ1VBoEqfM",
        "outputId": "e33b4481-b7ef-4760-e9ef-863a3e4db432"
      },
      "execution_count": 51,
      "outputs": [
        {
          "output_type": "display_data",
          "data": {
            "text/plain": [
              "<Figure size 1080x720 with 0 Axes>"
            ]
          },
          "metadata": {}
        },
        {
          "output_type": "display_data",
          "data": {
            "text/plain": [
              "<Figure size 1440x576 with 2 Axes>"
            ],
            "image/png": "[encoded data removed]"
          },
          "metadata": {
            "needs_background": "light"
          }
        },
        {
          "output_type": "stream",
          "name": "stdout",
          "text": [
            "2     61\n",
            "3     53\n",
            "4     52\n",
            "6     51\n",
            "5     41\n",
            "1     40\n",
            "7     24\n",
            "9     24\n",
            "12    24\n",
            "8     21\n",
            "10    21\n",
            "11    13\n",
            "Name: Month, dtype: int64\n"
          ]
        }
      ]
    },
    {
      "cell_type": "code",
      "source": [
        "#Count plot of Accident Level by Year\n",
        "\n",
        "plt.figure(figsize=(15, 10))\n",
        "make_count_plot(accident_df_raw, 'Year', hue='Accident Level')\n",
        "\n",
        "#2016 has had more accidents as compared to 2017"
      ],
      "metadata": {
        "colab": {
          "base_uri": "https://localhost:8080/",
          "height": 566
        },
        "id": "cVAu6pInEz-0",
        "outputId": "558d94b9-c919-45e9-c08a-10724a023873"
      },
      "execution_count": 52,
      "outputs": [
        {
          "output_type": "display_data",
          "data": {
            "text/plain": [
              "<Figure size 1080x720 with 0 Axes>"
            ]
          },
          "metadata": {}
        },
        {
          "output_type": "display_data",
          "data": {
            "text/plain": [
              "<Figure size 1440x576 with 2 Axes>"
            ],
            "image/png": "[encoded data removed]"
          },
          "metadata": {
            "needs_background": "light"
          }
        },
        {
          "output_type": "stream",
          "name": "stdout",
          "text": [
            "2016    285\n",
            "2017    140\n",
            "Name: Year, dtype: int64\n"
          ]
        }
      ]
    },
    {
      "cell_type": "code",
      "source": [
        "#Chi-Square test below with alpha = 0.05\n",
        "#accident_df_raw_data = accident_df_raw\n",
        "accident_df_raw.columns"
      ],
      "metadata": {
        "colab": {
          "base_uri": "https://localhost:8080/"
        },
        "id": "pE2PTNkyFs1t",
        "outputId": "3d0955e2-8f81-47a3-8216-454c0edc0002"
      },
      "execution_count": 53,
      "outputs": [
        {
          "output_type": "execute_result",
          "data": {
            "text/plain": [
              "Index(['Countries', 'Local', 'Industry Sector', 'Accident Level',\n",
              "       'Potential Accident Level', 'Genre', 'Employee or Third Party',\n",
              "       'Critical Risk', 'Description', 'Date', 'Month', 'Year'],\n",
              "      dtype='object')"
            ]
          },
          "metadata": {},
          "execution_count": 53
        }
      ]
    },
    {
      "cell_type": "code",
      "source": [
        "accident_level = { \"I\": 0, \"II\": 1, \"III\": 2, \"IV\": 3, \"V\": 4, \"VI\": 5 }\n",
        "accident_df_raw[\"Potential Accident Level\"] = accident_df_raw[\"Potential Accident Level\"].map(accident_level)\n",
        "accident_df_raw[\"Accident Level\"] = accident_df_raw[\"Accident Level\"].map(accident_level)\n",
        "\n",
        "gender = { \"Male\": 0, \"Female\": 1 }\n",
        "accident_df_raw['Genre'] = accident_df_raw['Genre'].map(gender)"
      ],
      "metadata": {
        "id": "BP32v66HFvz8"
      },
      "execution_count": 54,
      "outputs": []
    },
    {
      "cell_type": "code",
      "source": [
        "countries_encoder = LabelEncoder()\n",
        "accident_df_raw['Countries'] = countries_encoder.fit_transform(accident_df_raw['Countries'])\n",
        "\n",
        "local_encoder = LabelEncoder()\n",
        "accident_df_raw['Local'] = local_encoder.fit_transform(accident_df_raw['Local'])\n",
        "\n",
        "industry_sector_encoder = LabelEncoder()\n",
        "accident_df_raw['Industry Sector'] = industry_sector_encoder.fit_transform(accident_df_raw['Industry Sector'])\n",
        "\n",
        "gender_encoder = LabelEncoder()\n",
        "accident_df_raw['Genre'] = gender_encoder.fit_transform(accident_df_raw['Genre'])\n",
        "\n",
        "tp_encoder = LabelEncoder()\n",
        "accident_df_raw['Employee or Third Party'] = tp_encoder.fit_transform(accident_df_raw['Employee or Third Party'])\n",
        "\n",
        "risk_encoder = LabelEncoder()\n",
        "accident_df_raw['Critical Risk'] = risk_encoder.fit_transform(accident_df_raw['Critical Risk'])"
      ],
      "metadata": {
        "id": "6Ad2toeEFyeN"
      },
      "execution_count": 55,
      "outputs": []
    },
    {
      "cell_type": "code",
      "source": [
        "accident_df_raw.head()"
      ],
      "metadata": {
        "colab": {
          "base_uri": "https://localhost:8080/",
          "height": 206
        },
        "id": "TCCSl14KF08E",
        "outputId": "7afef3a9-f5e8-4054-b901-08dcb969ddf1"
      },
      "execution_count": 56,
      "outputs": [
        {
          "output_type": "execute_result",
          "data": {
            "text/plain": [
              "   Countries  Local  Industry Sector  Accident Level  \\\n",
              "0          0      0                1               0   \n",
              "1          1      1                1               0   \n",
              "2          0      2                1               0   \n",
              "3          0      3                1               0   \n",
              "4          0      3                1               3   \n",
              "\n",
              "   Potential Accident Level  Genre  Employee or Third Party  Critical Risk  \\\n",
              "0                         3      0                        1             20   \n",
              "1                         3      0                        0             21   \n",
              "2                         2      0                        2             15   \n",
              "3                         0      0                        1             16   \n",
              "4                         3      0                        1             16   \n",
              "\n",
              "                                         Description       Date  Month  Year  \n",
              "0  While removing the drill rod of the Jumbo 08 f... 2016-01-01      1  2016  \n",
              "1  During the activation of a sodium sulphide pum... 2016-01-02      1  2016  \n",
              "2  In the sub-station MILPO located at level +170... 2016-01-06      1  2016  \n",
              "3  Being 9:45 am. approximately in the Nv. 1880 C... 2016-01-08      1  2016  \n",
              "4  Approximately at 11:45 a.m. in circumstances t... 2016-01-10      1  2016  "
            ],
            "text/html": [
              "\n",
              "  <div id=\"df-9c99a9fd-0099-43c1-b84c-ec795aaad929\">\n",
              "    <div class=\"colab-df-container\">\n",
              "      <div>\n",
              "<style scoped>\n",
              "    .dataframe tbody tr th:only-of-type {\n",
              "        vertical-align: middle;\n",
              "    }\n",
              "\n",
              "    .dataframe tbody tr th {\n",
              "        vertical-align: top;\n",
              "    }\n",
              "\n",
              "    .dataframe thead th {\n",
              "        text-align: right;\n",
              "    }\n",
              "</style>\n",
              "<table border=\"1\" class=\"dataframe\">\n",
              "  <thead>\n",
              "    <tr style=\"text-align: right;\">\n",
              "      <th></th>\n",
              "      <th>Countries</th>\n",
              "      <th>Local</th>\n",
              "      <th>Industry Sector</th>\n",
              "      <th>Accident Level</th>\n",
              "      <th>Potential Accident Level</th>\n",
              "      <th>Genre</th>\n",
              "      <th>Employee or Third Party</th>\n",
              "      <th>Critical Risk</th>\n",
              "      <th>Description</th>\n",
              "      <th>Date</th>\n",
              "      <th>Month</th>\n",
              "      <th>Year</th>\n",
              "    </tr>\n",
              "  </thead>\n",
              "  <tbody>\n",
              "    <tr>\n",
              "      <th>0</th>\n",
              "      <td>0</td>\n",
              "      <td>0</td>\n",
              "      <td>1</td>\n",
              "      <td>0</td>\n",
              "      <td>3</td>\n",
              "      <td>0</td>\n",
              "      <td>1</td>\n",
              "      <td>20</td>\n",
              "      <td>While removing the drill rod of the Jumbo 08 f...</td>\n",
              "      <td>2016-01-01</td>\n",
              "      <td>1</td>\n",
              "      <td>2016</td>\n",
              "    </tr>\n",
              "    <tr>\n",
              "      <th>1</th>\n",
              "      <td>1</td>\n",
              "      <td>1</td>\n",
              "      <td>1</td>\n",
              "      <td>0</td>\n",
              "      <td>3</td>\n",
              "      <td>0</td>\n",
              "      <td>0</td>\n",
              "      <td>21</td>\n",
              "      <td>During the activation of a sodium sulphide pum...</td>\n",
              "      <td>2016-01-02</td>\n",
              "      <td>1</td>\n",
              "      <td>2016</td>\n",
              "    </tr>\n",
              "    <tr>\n",
              "      <th>2</th>\n",
              "      <td>0</td>\n",
              "      <td>2</td>\n",
              "      <td>1</td>\n",
              "      <td>0</td>\n",
              "      <td>2</td>\n",
              "      <td>0</td>\n",
              "      <td>2</td>\n",
              "      <td>15</td>\n",
              "      <td>In the sub-station MILPO located at level +170...</td>\n",
              "      <td>2016-01-06</td>\n",
              "      <td>1</td>\n",
              "      <td>2016</td>\n",
              "    </tr>\n",
              "    <tr>\n",
              "      <th>3</th>\n",
              "      <td>0</td>\n",
              "      <td>3</td>\n",
              "      <td>1</td>\n",
              "      <td>0</td>\n",
              "      <td>0</td>\n",
              "      <td>0</td>\n",
              "      <td>1</td>\n",
              "      <td>16</td>\n",
              "      <td>Being 9:45 am. approximately in the Nv. 1880 C...</td>\n",
              "      <td>2016-01-08</td>\n",
              "      <td>1</td>\n",
              "      <td>2016</td>\n",
              "    </tr>\n",
              "    <tr>\n",
              "      <th>4</th>\n",
              "      <td>0</td>\n",
              "      <td>3</td>\n",
              "      <td>1</td>\n",
              "      <td>3</td>\n",
              "      <td>3</td>\n",
              "      <td>0</td>\n",
              "      <td>1</td>\n",
              "      <td>16</td>\n",
              "      <td>Approximately at 11:45 a.m. in circumstances t...</td>\n",
              "      <td>2016-01-10</td>\n",
              "      <td>1</td>\n",
              "      <td>2016</td>\n",
              "    </tr>\n",
              "  </tbody>\n",
              "</table>\n",
              "</div>\n",
              "      <button class=\"colab-df-convert\" onclick=\"convertToInteractive('df-9c99a9fd-0099-43c1-b84c-ec795aaad929')\"\n",
              "              title=\"Convert this dataframe to an interactive table.\"\n",
              "              style=\"display:none;\">\n",
              "        \n",
              "  <svg xmlns=\"http://www.w3.org/2000/svg\" height=\"24px\"viewBox=\"0 0 24 24\"\n",
              "       width=\"24px\">\n",
              "    <path d=\"M0 0h24v24H0V0z\" fill=\"none\"/>\n",
              "    <path d=\"M18.56 5.44l.94 2.06.94-2.06 2.06-.94-2.06-.94-.94-2.06-.94 2.06-2.06.94zm-11 1L8.5 8.5l.94-2.06 2.06-.94-2.06-.94L8.5 2.5l-.94 2.06-2.06.94zm10 10l.94 2.06.94-2.06 2.06-.94-2.06-.94-.94-2.06-.94 2.06-2.06.94z\"/><path d=\"M17.41 7.96l-1.37-1.37c-.4-.4-.92-.59-1.43-.59-.52 0-1.04.2-1.43.59L10.3 9.45l-7.72 7.72c-.78.78-.78 2.05 0 2.83L4 21.41c.39.39.9.59 1.41.59.51 0 1.02-.2 1.41-.59l7.78-7.78 2.81-2.81c.8-.78.8-2.07 0-2.86zM5.41 20L4 18.59l7.72-7.72 1.47 1.35L5.41 20z\"/>\n",
              "  </svg>\n",
              "      </button>\n",
              "      \n",
              "  <style>\n",
              "    .colab-df-container {\n",
              "      display:flex;\n",
              "      flex-wrap:wrap;\n",
              "      gap: 12px;\n",
              "    }\n",
              "\n",
              "    .colab-df-convert {\n",
              "      background-color: #E8F0FE;\n",
              "      border: none;\n",
              "      border-radius: 50%;\n",
              "      cursor: pointer;\n",
              "      display: none;\n",
              "      fill: #1967D2;\n",
              "      height: 32px;\n",
              "      padding: 0 0 0 0;\n",
              "      width: 32px;\n",
              "    }\n",
              "\n",
              "    .colab-df-convert:hover {\n",
              "      background-color: #E2EBFA;\n",
              "      box-shadow: 0px 1px 2px rgba(60, 64, 67, 0.3), 0px 1px 3px 1px rgba(60, 64, 67, 0.15);\n",
              "      fill: #174EA6;\n",
              "    }\n",
              "\n",
              "    [theme=dark] .colab-df-convert {\n",
              "      background-color: #3B4455;\n",
              "      fill: #D2E3FC;\n",
              "    }\n",
              "\n",
              "    [theme=dark] .colab-df-convert:hover {\n",
              "      background-color: #434B5C;\n",
              "      box-shadow: 0px 1px 3px 1px rgba(0, 0, 0, 0.15);\n",
              "      filter: drop-shadow(0px 1px 2px rgba(0, 0, 0, 0.3));\n",
              "      fill: #FFFFFF;\n",
              "    }\n",
              "  </style>\n",
              "\n",
              "      <script>\n",
              "        const buttonEl =\n",
              "          document.querySelector('#df-9c99a9fd-0099-43c1-b84c-ec795aaad929 button.colab-df-convert');\n",
              "        buttonEl.style.display =\n",
              "          google.colab.kernel.accessAllowed ? 'block' : 'none';\n",
              "\n",
              "        async function convertToInteractive(key) {\n",
              "          const element = document.querySelector('#df-9c99a9fd-0099-43c1-b84c-ec795aaad929');\n",
              "          const dataTable =\n",
              "            await google.colab.kernel.invokeFunction('convertToInteractive',\n",
              "                                                     [key], {});\n",
              "          if (!dataTable) return;\n",
              "\n",
              "          const docLinkHtml = 'Like what you see? Visit the ' +\n",
              "            '<a target=\"_blank\" href=https://colab.research.google.com/notebooks/data_table.ipynb>data table notebook</a>'\n",
              "            + ' to learn more about interactive tables.';\n",
              "          element.innerHTML = '';\n",
              "          dataTable['output_type'] = 'display_data';\n",
              "          await google.colab.output.renderOutput(dataTable, element);\n",
              "          const docLink = document.createElement('div');\n",
              "          docLink.innerHTML = docLinkHtml;\n",
              "          element.appendChild(docLink);\n",
              "        }\n",
              "      </script>\n",
              "    </div>\n",
              "  </div>\n",
              "  "
            ]
          },
          "metadata": {},
          "execution_count": 56
        }
      ]
    },
    {
      "cell_type": "code",
      "source": [
        "# H0: Countries have no impact on Accident Level\n",
        "# Ha: Countries have impact on Accident Level\n",
        "\n",
        "countries_cross_tab = pd.crosstab(index = accident_df_raw['Countries'], columns = accident_df_raw['Accident Level'])\n",
        "chi2, p, dof, ex =chi2_contingency(countries_cross_tab)\n",
        "p\n",
        "\n",
        "#Since p is less than alpha = 0.05 we reject the null hypothesis"
      ],
      "metadata": {
        "colab": {
          "base_uri": "https://localhost:8080/"
        },
        "id": "cxSDyc5vF352",
        "outputId": "e7b43bfb-2f87-41e4-c939-a8cf3697f14e"
      },
      "execution_count": 57,
      "outputs": [
        {
          "output_type": "execute_result",
          "data": {
            "text/plain": [
              "0.029289135181414006"
            ]
          },
          "metadata": {},
          "execution_count": 57
        }
      ]
    },
    {
      "cell_type": "code",
      "source": [
        "# H0: Local have no impact on Accident Level\n",
        "# Ha: Local have impact on Accident Level\n",
        "\n",
        "local_cross_tab = pd.crosstab(index = accident_df_raw['Local'], columns = accident_df_raw['Accident Level'])\n",
        "chi2, p, dof, ex =chi2_contingency(local_cross_tab)\n",
        "p\n",
        "\n",
        "#Since p is greater than alpha = 0.05 we hold the null hypothesis"
      ],
      "metadata": {
        "colab": {
          "base_uri": "https://localhost:8080/"
        },
        "id": "PMU9xnd_F7Z0",
        "outputId": "ba1db97b-15c1-4860-a07b-e8d05571f79f"
      },
      "execution_count": 58,
      "outputs": [
        {
          "output_type": "execute_result",
          "data": {
            "text/plain": [
              "0.08517417019121315"
            ]
          },
          "metadata": {},
          "execution_count": 58
        }
      ]
    },
    {
      "cell_type": "code",
      "source": [
        "# H0: Industry Sector have no impact on Accident Level\n",
        "# Ha: Industry Sector have impact on Accident Level\n",
        "\n",
        "sector_cross_tab = pd.crosstab(index = accident_df_raw['Industry Sector'], columns = accident_df_raw['Accident Level'])\n",
        "chi2, p, dof, ex =chi2_contingency(sector_cross_tab)\n",
        "p\n",
        "\n",
        "#Since p is greater than alpha = 0.05 we hold the null hypothesis"
      ],
      "metadata": {
        "colab": {
          "base_uri": "https://localhost:8080/"
        },
        "id": "yijQISFVF8_9",
        "outputId": "1596cd55-3b2f-4825-9305-f55743003798"
      },
      "execution_count": 59,
      "outputs": [
        {
          "output_type": "execute_result",
          "data": {
            "text/plain": [
              "0.22169109324538974"
            ]
          },
          "metadata": {},
          "execution_count": 59
        }
      ]
    },
    {
      "cell_type": "code",
      "source": [
        "# H0: Employee or Third Party have no impact on Accident Level\n",
        "# Ha: Employee or Third Party have impact on Accident Level\n",
        "\n",
        "tp_cross_tab = pd.crosstab(index = accident_df_raw['Employee or Third Party'], columns = accident_df_raw['Accident Level'])\n",
        "chi2, p, dof, ex =chi2_contingency(tp_cross_tab)\n",
        "p\n",
        "\n",
        "#Since p is greater than alpha = 0.05 we hold the null hypothesis"
      ],
      "metadata": {
        "colab": {
          "base_uri": "https://localhost:8080/"
        },
        "id": "t0ARIk7OF-51",
        "outputId": "4ee7e0a9-b410-41a3-e66f-90ebe61802b2"
      },
      "execution_count": 60,
      "outputs": [
        {
          "output_type": "execute_result",
          "data": {
            "text/plain": [
              "0.40041517232275947"
            ]
          },
          "metadata": {},
          "execution_count": 60
        }
      ]
    },
    {
      "cell_type": "code",
      "source": [
        "#Data Processing\n",
        "\n",
        "# accident_df_raw_data.shape\n",
        "# accident_df_raw_data.info()\n",
        "accident_df_raw_data.head()"
      ],
      "metadata": {
        "colab": {
          "base_uri": "https://localhost:8080/",
          "height": 206
        },
        "id": "lHGaEw2Q9kl_",
        "outputId": "51f51f7c-13c4-4c93-ad6e-7c1b24237a53"
      },
      "execution_count": 61,
      "outputs": [
        {
          "output_type": "execute_result",
          "data": {
            "text/plain": [
              "    Countries     Local Industry Sector Accident Level  \\\n",
              "0  Country_01  Local_01          Mining              I   \n",
              "1  Country_02  Local_02          Mining              I   \n",
              "2  Country_01  Local_03          Mining              I   \n",
              "3  Country_01  Local_04          Mining              I   \n",
              "4  Country_01  Local_04          Mining             IV   \n",
              "\n",
              "  Potential Accident Level Genre Employee or Third Party        Critical Risk  \\\n",
              "0                       IV  Male             Third Party              Pressed   \n",
              "1                       IV  Male                Employee  Pressurized Systems   \n",
              "2                      III  Male    Third Party (Remote)         Manual Tools   \n",
              "3                        I  Male             Third Party               Others   \n",
              "4                       IV  Male             Third Party               Others   \n",
              "\n",
              "                                         Description       Date  Month  Year  \n",
              "0  While removing the drill rod of the Jumbo 08 f... 2016-01-01      1  2016  \n",
              "1  During the activation of a sodium sulphide pum... 2016-01-02      1  2016  \n",
              "2  In the sub-station MILPO located at level +170... 2016-01-06      1  2016  \n",
              "3  Being 9:45 am. approximately in the Nv. 1880 C... 2016-01-08      1  2016  \n",
              "4  Approximately at 11:45 a.m. in circumstances t... 2016-01-10      1  2016  "
            ],
            "text/html": [
              "\n",
              "  <div id=\"df-24ebeb6f-6f1d-4829-ad56-0db9e85141c7\">\n",
              "    <div class=\"colab-df-container\">\n",
              "      <div>\n",
              "<style scoped>\n",
              "    .dataframe tbody tr th:only-of-type {\n",
              "        vertical-align: middle;\n",
              "    }\n",
              "\n",
              "    .dataframe tbody tr th {\n",
              "        vertical-align: top;\n",
              "    }\n",
              "\n",
              "    .dataframe thead th {\n",
              "        text-align: right;\n",
              "    }\n",
              "</style>\n",
              "<table border=\"1\" class=\"dataframe\">\n",
              "  <thead>\n",
              "    <tr style=\"text-align: right;\">\n",
              "      <th></th>\n",
              "      <th>Countries</th>\n",
              "      <th>Local</th>\n",
              "      <th>Industry Sector</th>\n",
              "      <th>Accident Level</th>\n",
              "      <th>Potential Accident Level</th>\n",
              "      <th>Genre</th>\n",
              "      <th>Employee or Third Party</th>\n",
              "      <th>Critical Risk</th>\n",
              "      <th>Description</th>\n",
              "      <th>Date</th>\n",
              "      <th>Month</th>\n",
              "      <th>Year</th>\n",
              "    </tr>\n",
              "  </thead>\n",
              "  <tbody>\n",
              "    <tr>\n",
              "      <th>0</th>\n",
              "      <td>Country_01</td>\n",
              "      <td>Local_01</td>\n",
              "      <td>Mining</td>\n",
              "      <td>I</td>\n",
              "      <td>IV</td>\n",
              "      <td>Male</td>\n",
              "      <td>Third Party</td>\n",
              "      <td>Pressed</td>\n",
              "      <td>While removing the drill rod of the Jumbo 08 f...</td>\n",
              "      <td>2016-01-01</td>\n",
              "      <td>1</td>\n",
              "      <td>2016</td>\n",
              "    </tr>\n",
              "    <tr>\n",
              "      <th>1</th>\n",
              "      <td>Country_02</td>\n",
              "      <td>Local_02</td>\n",
              "      <td>Mining</td>\n",
              "      <td>I</td>\n",
              "      <td>IV</td>\n",
              "      <td>Male</td>\n",
              "      <td>Employee</td>\n",
              "      <td>Pressurized Systems</td>\n",
              "      <td>During the activation of a sodium sulphide pum...</td>\n",
              "      <td>2016-01-02</td>\n",
              "      <td>1</td>\n",
              "      <td>2016</td>\n",
              "    </tr>\n",
              "    <tr>\n",
              "      <th>2</th>\n",
              "      <td>Country_01</td>\n",
              "      <td>Local_03</td>\n",
              "      <td>Mining</td>\n",
              "      <td>I</td>\n",
              "      <td>III</td>\n",
              "      <td>Male</td>\n",
              "      <td>Third Party (Remote)</td>\n",
              "      <td>Manual Tools</td>\n",
              "      <td>In the sub-station MILPO located at level +170...</td>\n",
              "      <td>2016-01-06</td>\n",
              "      <td>1</td>\n",
              "      <td>2016</td>\n",
              "    </tr>\n",
              "    <tr>\n",
              "      <th>3</th>\n",
              "      <td>Country_01</td>\n",
              "      <td>Local_04</td>\n",
              "      <td>Mining</td>\n",
              "      <td>I</td>\n",
              "      <td>I</td>\n",
              "      <td>Male</td>\n",
              "      <td>Third Party</td>\n",
              "      <td>Others</td>\n",
              "      <td>Being 9:45 am. approximately in the Nv. 1880 C...</td>\n",
              "      <td>2016-01-08</td>\n",
              "      <td>1</td>\n",
              "      <td>2016</td>\n",
              "    </tr>\n",
              "    <tr>\n",
              "      <th>4</th>\n",
              "      <td>Country_01</td>\n",
              "      <td>Local_04</td>\n",
              "      <td>Mining</td>\n",
              "      <td>IV</td>\n",
              "      <td>IV</td>\n",
              "      <td>Male</td>\n",
              "      <td>Third Party</td>\n",
              "      <td>Others</td>\n",
              "      <td>Approximately at 11:45 a.m. in circumstances t...</td>\n",
              "      <td>2016-01-10</td>\n",
              "      <td>1</td>\n",
              "      <td>2016</td>\n",
              "    </tr>\n",
              "  </tbody>\n",
              "</table>\n",
              "</div>\n",
              "      <button class=\"colab-df-convert\" onclick=\"convertToInteractive('df-24ebeb6f-6f1d-4829-ad56-0db9e85141c7')\"\n",
              "              title=\"Convert this dataframe to an interactive table.\"\n",
              "              style=\"display:none;\">\n",
              "        \n",
              "  <svg xmlns=\"http://www.w3.org/2000/svg\" height=\"24px\"viewBox=\"0 0 24 24\"\n",
              "       width=\"24px\">\n",
              "    <path d=\"M0 0h24v24H0V0z\" fill=\"none\"/>\n",
              "    <path d=\"M18.56 5.44l.94 2.06.94-2.06 2.06-.94-2.06-.94-.94-2.06-.94 2.06-2.06.94zm-11 1L8.5 8.5l.94-2.06 2.06-.94-2.06-.94L8.5 2.5l-.94 2.06-2.06.94zm10 10l.94 2.06.94-2.06 2.06-.94-2.06-.94-.94-2.06-.94 2.06-2.06.94z\"/><path d=\"M17.41 7.96l-1.37-1.37c-.4-.4-.92-.59-1.43-.59-.52 0-1.04.2-1.43.59L10.3 9.45l-7.72 7.72c-.78.78-.78 2.05 0 2.83L4 21.41c.39.39.9.59 1.41.59.51 0 1.02-.2 1.41-.59l7.78-7.78 2.81-2.81c.8-.78.8-2.07 0-2.86zM5.41 20L4 18.59l7.72-7.72 1.47 1.35L5.41 20z\"/>\n",
              "  </svg>\n",
              "      </button>\n",
              "      \n",
              "  <style>\n",
              "    .colab-df-container {\n",
              "      display:flex;\n",
              "      flex-wrap:wrap;\n",
              "      gap: 12px;\n",
              "    }\n",
              "\n",
              "    .colab-df-convert {\n",
              "      background-color: #E8F0FE;\n",
              "      border: none;\n",
              "      border-radius: 50%;\n",
              "      cursor: pointer;\n",
              "      display: none;\n",
              "      fill: #1967D2;\n",
              "      height: 32px;\n",
              "      padding: 0 0 0 0;\n",
              "      width: 32px;\n",
              "    }\n",
              "\n",
              "    .colab-df-convert:hover {\n",
              "      background-color: #E2EBFA;\n",
              "      box-shadow: 0px 1px 2px rgba(60, 64, 67, 0.3), 0px 1px 3px 1px rgba(60, 64, 67, 0.15);\n",
              "      fill: #174EA6;\n",
              "    }\n",
              "\n",
              "    [theme=dark] .colab-df-convert {\n",
              "      background-color: #3B4455;\n",
              "      fill: #D2E3FC;\n",
              "    }\n",
              "\n",
              "    [theme=dark] .colab-df-convert:hover {\n",
              "      background-color: #434B5C;\n",
              "      box-shadow: 0px 1px 3px 1px rgba(0, 0, 0, 0.15);\n",
              "      filter: drop-shadow(0px 1px 2px rgba(0, 0, 0, 0.3));\n",
              "      fill: #FFFFFF;\n",
              "    }\n",
              "  </style>\n",
              "\n",
              "      <script>\n",
              "        const buttonEl =\n",
              "          document.querySelector('#df-24ebeb6f-6f1d-4829-ad56-0db9e85141c7 button.colab-df-convert');\n",
              "        buttonEl.style.display =\n",
              "          google.colab.kernel.accessAllowed ? 'block' : 'none';\n",
              "\n",
              "        async function convertToInteractive(key) {\n",
              "          const element = document.querySelector('#df-24ebeb6f-6f1d-4829-ad56-0db9e85141c7');\n",
              "          const dataTable =\n",
              "            await google.colab.kernel.invokeFunction('convertToInteractive',\n",
              "                                                     [key], {});\n",
              "          if (!dataTable) return;\n",
              "\n",
              "          const docLinkHtml = 'Like what you see? Visit the ' +\n",
              "            '<a target=\"_blank\" href=https://colab.research.google.com/notebooks/data_table.ipynb>data table notebook</a>'\n",
              "            + ' to learn more about interactive tables.';\n",
              "          element.innerHTML = '';\n",
              "          dataTable['output_type'] = 'display_data';\n",
              "          await google.colab.output.renderOutput(dataTable, element);\n",
              "          const docLink = document.createElement('div');\n",
              "          docLink.innerHTML = docLinkHtml;\n",
              "          element.appendChild(docLink);\n",
              "        }\n",
              "      </script>\n",
              "    </div>\n",
              "  </div>\n",
              "  "
            ]
          },
          "metadata": {},
          "execution_count": 61
        }
      ]
    },
    {
      "cell_type": "code",
      "source": [
        "#Lower Case words in the description column\n",
        "accident_df_raw_data.iloc[0,8:9]\n",
        "accident_df_raw_data[\"Description\"] = accident_df_raw_data[\"Description\"].str.lower()\n",
        "accident_df_raw_data.iloc[0,8:9]"
      ],
      "metadata": {
        "colab": {
          "base_uri": "https://localhost:8080/"
        },
        "id": "RRzAq22gCK_Z",
        "outputId": "6da9e592-bd3d-40d6-ed32-4e118cc0d926"
      },
      "execution_count": 62,
      "outputs": [
        {
          "output_type": "execute_result",
          "data": {
            "text/plain": [
              "Description    while removing the drill rod of the jumbo 08 f...\n",
              "Name: 0, dtype: object"
            ]
          },
          "metadata": {},
          "execution_count": 62
        }
      ]
    },
    {
      "cell_type": "code",
      "source": [
        "#Remove stop words and punctuations from description column\n",
        "stop_words = stopwords.words('english') + list(punctuation)\n",
        "\n",
        "def removestopwords(text):\n",
        "    text = re.sub(\"\\'\", \"\", text) \n",
        "    text = re.sub(\"[^a-zA-Z]\",\" \",text) \n",
        "    text = ' '.join(text.split()) \n",
        "    text = text.lower() \n",
        "    no_stopword_text = [w for w in text.split() if not w in stop_words and not w.isdigit()]\n",
        "    return ' '.join(no_stopword_text)\n",
        "\n",
        "accident_df_raw_data[\"Description\"] = accident_df_raw_data[\"Description\"].apply(lambda x: removestopwords(x))\n",
        "accident_df_raw_data.iloc[0,8:9]"
      ],
      "metadata": {
        "colab": {
          "base_uri": "https://localhost:8080/"
        },
        "id": "pQkii1FcCyMI",
        "outputId": "c47ab007-2062-4af8-bc06-b5699dbfd36f"
      },
      "execution_count": 63,
      "outputs": [
        {
          "output_type": "execute_result",
          "data": {
            "text/plain": [
              "Description    removing drill rod jumbo maintenance superviso...\n",
              "Name: 0, dtype: object"
            ]
          },
          "metadata": {},
          "execution_count": 63
        }
      ]
    },
    {
      "cell_type": "code",
      "source": [
        "#Word Cloud\n",
        "\n",
        "#text = accident_df_raw_data.Description[0]\n",
        "text = \" \".join(desc for desc in accident_df_raw_data.Description)\n",
        "print (\"There are {} words in the combination of all Description.\".format(len(text)))\n",
        "\n",
        "wordcloud = WordCloud().generate(text)\n",
        "plt.imshow(wordcloud, interpolation='bilinear')\n",
        "plt.axis(\"off\")\n",
        "plt.show()"
      ],
      "metadata": {
        "colab": {
          "base_uri": "https://localhost:8080/",
          "height": 215
        },
        "id": "_OLMBntHD-fY",
        "outputId": "99e19812-c5ac-45e2-f919-5116f2e956cb"
      },
      "execution_count": 64,
      "outputs": [
        {
          "output_type": "stream",
          "name": "stdout",
          "text": [
            "There are 100687 words in the combination of all Description.\n"
          ]
        },
        {
          "output_type": "display_data",
          "data": {
            "text/plain": [
              "<Figure size 432x288 with 1 Axes>"
            ],
            "image/png": "[encoded data removed]"
          },
          "metadata": {
            "needs_background": "light"
          }
        }
      ]
    },
    {
      "cell_type": "code",
      "source": [
        "#Save data to csv to pass to model\n",
        "\n",
        "#accident_df_raw_data = accident_df_raw_data.drop(columns='Unnamed: 0', axis=1)\n",
        "accident_df_raw_data = accident_df_raw_data.drop(columns='Local', axis=1)\n",
        "accident_df_raw_data = accident_df_raw_data.drop(columns='Industry Sector', axis=1)\n",
        "accident_df_raw_data = accident_df_raw_data.drop(columns='Potential Accident Level', axis=1)\n",
        "accident_df_raw_data = accident_df_raw_data.drop(columns='Genre', axis=1)\n",
        "accident_df_raw_data = accident_df_raw_data.drop(columns='Employee or Third Party', axis=1)\n",
        "accident_df_raw_data = accident_df_raw_data.drop(columns='Critical Risk', axis=1)\n",
        "accident_df_raw_data = accident_df_raw_data.drop(columns='Date', axis=1)\n",
        "accident_df_raw_data = accident_df_raw_data.drop(columns='Month', axis=1)\n",
        "accident_df_raw_data = accident_df_raw_data.drop(columns='Year', axis=1)\n",
        "accident_df_raw_data.to_csv(data_path + output_file_name)\n",
        "accident_df_raw_data.head()"
      ],
      "metadata": {
        "id": "nni6N22_Ihcu",
        "colab": {
          "base_uri": "https://localhost:8080/",
          "height": 206
        },
        "outputId": "f71dc72e-93d8-48d4-ac18-71d848790bea"
      },
      "execution_count": 65,
      "outputs": [
        {
          "output_type": "execute_result",
          "data": {
            "text/plain": [
              "    Countries Accident Level  \\\n",
              "0  Country_01              I   \n",
              "1  Country_02              I   \n",
              "2  Country_01              I   \n",
              "3  Country_01              I   \n",
              "4  Country_01             IV   \n",
              "\n",
              "                                         Description  \n",
              "0  removing drill rod jumbo maintenance superviso...  \n",
              "1  activation sodium sulphide pump piping uncoupl...  \n",
              "2  sub station milpo located level collaborator e...  \n",
              "3  approximately nv cx ob personnel begins task u...  \n",
              "4  approximately circumstances mechanics anthony ...  "
            ],
            "text/html": [
              "\n",
              "  <div id=\"df-740e4a15-7c90-43d5-90d9-6026efe6cd71\">\n",
              "    <div class=\"colab-df-container\">\n",
              "      <div>\n",
              "<style scoped>\n",
              "    .dataframe tbody tr th:only-of-type {\n",
              "        vertical-align: middle;\n",
              "    }\n",
              "\n",
              "    .dataframe tbody tr th {\n",
              "        vertical-align: top;\n",
              "    }\n",
              "\n",
              "    .dataframe thead th {\n",
              "        text-align: right;\n",
              "    }\n",
              "</style>\n",
              "<table border=\"1\" class=\"dataframe\">\n",
              "  <thead>\n",
              "    <tr style=\"text-align: right;\">\n",
              "      <th></th>\n",
              "      <th>Countries</th>\n",
              "      <th>Accident Level</th>\n",
              "      <th>Description</th>\n",
              "    </tr>\n",
              "  </thead>\n",
              "  <tbody>\n",
              "    <tr>\n",
              "      <th>0</th>\n",
              "      <td>Country_01</td>\n",
              "      <td>I</td>\n",
              "      <td>removing drill rod jumbo maintenance superviso...</td>\n",
              "    </tr>\n",
              "    <tr>\n",
              "      <th>1</th>\n",
              "      <td>Country_02</td>\n",
              "      <td>I</td>\n",
              "      <td>activation sodium sulphide pump piping uncoupl...</td>\n",
              "    </tr>\n",
              "    <tr>\n",
              "      <th>2</th>\n",
              "      <td>Country_01</td>\n",
              "      <td>I</td>\n",
              "      <td>sub station milpo located level collaborator e...</td>\n",
              "    </tr>\n",
              "    <tr>\n",
              "      <th>3</th>\n",
              "      <td>Country_01</td>\n",
              "      <td>I</td>\n",
              "      <td>approximately nv cx ob personnel begins task u...</td>\n",
              "    </tr>\n",
              "    <tr>\n",
              "      <th>4</th>\n",
              "      <td>Country_01</td>\n",
              "      <td>IV</td>\n",
              "      <td>approximately circumstances mechanics anthony ...</td>\n",
              "    </tr>\n",
              "  </tbody>\n",
              "</table>\n",
              "</div>\n",
              "      <button class=\"colab-df-convert\" onclick=\"convertToInteractive('df-740e4a15-7c90-43d5-90d9-6026efe6cd71')\"\n",
              "              title=\"Convert this dataframe to an interactive table.\"\n",
              "              style=\"display:none;\">\n",
              "        \n",
              "  <svg xmlns=\"http://www.w3.org/2000/svg\" height=\"24px\"viewBox=\"0 0 24 24\"\n",
              "       width=\"24px\">\n",
              "    <path d=\"M0 0h24v24H0V0z\" fill=\"none\"/>\n",
              "    <path d=\"M18.56 5.44l.94 2.06.94-2.06 2.06-.94-2.06-.94-.94-2.06-.94 2.06-2.06.94zm-11 1L8.5 8.5l.94-2.06 2.06-.94-2.06-.94L8.5 2.5l-.94 2.06-2.06.94zm10 10l.94 2.06.94-2.06 2.06-.94-2.06-.94-.94-2.06-.94 2.06-2.06.94z\"/><path d=\"M17.41 7.96l-1.37-1.37c-.4-.4-.92-.59-1.43-.59-.52 0-1.04.2-1.43.59L10.3 9.45l-7.72 7.72c-.78.78-.78 2.05 0 2.83L4 21.41c.39.39.9.59 1.41.59.51 0 1.02-.2 1.41-.59l7.78-7.78 2.81-2.81c.8-.78.8-2.07 0-2.86zM5.41 20L4 18.59l7.72-7.72 1.47 1.35L5.41 20z\"/>\n",
              "  </svg>\n",
              "      </button>\n",
              "      \n",
              "  <style>\n",
              "    .colab-df-container {\n",
              "      display:flex;\n",
              "      flex-wrap:wrap;\n",
              "      gap: 12px;\n",
              "    }\n",
              "\n",
              "    .colab-df-convert {\n",
              "      background-color: #E8F0FE;\n",
              "      border: none;\n",
              "      border-radius: 50%;\n",
              "      cursor: pointer;\n",
              "      display: none;\n",
              "      fill: #1967D2;\n",
              "      height: 32px;\n",
              "      padding: 0 0 0 0;\n",
              "      width: 32px;\n",
              "    }\n",
              "\n",
              "    .colab-df-convert:hover {\n",
              "      background-color: #E2EBFA;\n",
              "      box-shadow: 0px 1px 2px rgba(60, 64, 67, 0.3), 0px 1px 3px 1px rgba(60, 64, 67, 0.15);\n",
              "      fill: #174EA6;\n",
              "    }\n",
              "\n",
              "    [theme=dark] .colab-df-convert {\n",
              "      background-color: #3B4455;\n",
              "      fill: #D2E3FC;\n",
              "    }\n",
              "\n",
              "    [theme=dark] .colab-df-convert:hover {\n",
              "      background-color: #434B5C;\n",
              "      box-shadow: 0px 1px 3px 1px rgba(0, 0, 0, 0.15);\n",
              "      filter: drop-shadow(0px 1px 2px rgba(0, 0, 0, 0.3));\n",
              "      fill: #FFFFFF;\n",
              "    }\n",
              "  </style>\n",
              "\n",
              "      <script>\n",
              "        const buttonEl =\n",
              "          document.querySelector('#df-740e4a15-7c90-43d5-90d9-6026efe6cd71 button.colab-df-convert');\n",
              "        buttonEl.style.display =\n",
              "          google.colab.kernel.accessAllowed ? 'block' : 'none';\n",
              "\n",
              "        async function convertToInteractive(key) {\n",
              "          const element = document.querySelector('#df-740e4a15-7c90-43d5-90d9-6026efe6cd71');\n",
              "          const dataTable =\n",
              "            await google.colab.kernel.invokeFunction('convertToInteractive',\n",
              "                                                     [key], {});\n",
              "          if (!dataTable) return;\n",
              "\n",
              "          const docLinkHtml = 'Like what you see? Visit the ' +\n",
              "            '<a target=\"_blank\" href=https://colab.research.google.com/notebooks/data_table.ipynb>data table notebook</a>'\n",
              "            + ' to learn more about interactive tables.';\n",
              "          element.innerHTML = '';\n",
              "          dataTable['output_type'] = 'display_data';\n",
              "          await google.colab.output.renderOutput(dataTable, element);\n",
              "          const docLink = document.createElement('div');\n",
              "          docLink.innerHTML = docLinkHtml;\n",
              "          element.appendChild(docLink);\n",
              "        }\n",
              "      </script>\n",
              "    </div>\n",
              "  </div>\n",
              "  "
            ]
          },
          "metadata": {},
          "execution_count": 65
        }
      ]
    },
    {
      "cell_type": "code",
      "source": [
        ""
      ],
      "metadata": {
        "id": "56Y2KwfGIdEE"
      },
      "execution_count": 65,
      "outputs": []
    }
  ]
}